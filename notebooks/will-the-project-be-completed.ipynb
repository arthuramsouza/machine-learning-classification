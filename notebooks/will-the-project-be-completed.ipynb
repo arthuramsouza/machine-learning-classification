{
 "cells": [
  {
   "cell_type": "markdown",
   "source": [
    "# Machine Learning - Classification\n",
    "\n",
    "## Will the project be completed?\n",
    "\n",
    "This Jupyter notebook contains a classification test case where,\n",
    "given some input data, we'll try to predict whether a project will completed or not.\n"
   ],
   "metadata": {
    "collapsed": false
   }
  },
  {
   "cell_type": "code",
   "execution_count": 1,
   "metadata": {
    "collapsed": true,
    "pycharm": {
     "is_executing": false
    }
   },
   "outputs": [],
   "source": [
    "# Imports\n",
    "import pandas as pd\n",
    "import seaborn as sns"
   ]
  },
  {
   "cell_type": "code",
   "execution_count": 2,
   "outputs": [
    {
     "data": {
      "text/plain": "   unfinished  expected_hours  price\n0           1              26    192\n1           1              88   9015\n2           1              89   2577\n3           1              42    275\n4           1              39    170",
      "text/html": "<div>\n<style scoped>\n    .dataframe tbody tr th:only-of-type {\n        vertical-align: middle;\n    }\n\n    .dataframe tbody tr th {\n        vertical-align: top;\n    }\n\n    .dataframe thead th {\n        text-align: right;\n    }\n</style>\n<table border=\"1\" class=\"dataframe\">\n  <thead>\n    <tr style=\"text-align: right;\">\n      <th></th>\n      <th>unfinished</th>\n      <th>expected_hours</th>\n      <th>price</th>\n    </tr>\n  </thead>\n  <tbody>\n    <tr>\n      <th>0</th>\n      <td>1</td>\n      <td>26</td>\n      <td>192</td>\n    </tr>\n    <tr>\n      <th>1</th>\n      <td>1</td>\n      <td>88</td>\n      <td>9015</td>\n    </tr>\n    <tr>\n      <th>2</th>\n      <td>1</td>\n      <td>89</td>\n      <td>2577</td>\n    </tr>\n    <tr>\n      <th>3</th>\n      <td>1</td>\n      <td>42</td>\n      <td>275</td>\n    </tr>\n    <tr>\n      <th>4</th>\n      <td>1</td>\n      <td>39</td>\n      <td>170</td>\n    </tr>\n  </tbody>\n</table>\n</div>"
     },
     "metadata": {},
     "output_type": "execute_result",
     "execution_count": 2
    }
   ],
   "source": [
    "# Data\n",
    "data = pd.read_csv('../data/projects.csv')\n",
    "data.head()"
   ],
   "metadata": {
    "collapsed": false,
    "pycharm": {
     "name": "#%%\n",
     "is_executing": false
    }
   }
  },
  {
   "cell_type": "markdown",
   "source": [
    "### Features\n",
    "\n",
    "As we can see by the data, we have the following features:\n",
    "- **hours:** the amount of hours expected for the project\n",
    "- **price:** the amount of money the buyer would pay\n",
    "\n",
    "And we have the classification:\n",
    "- **unfinished:** whether the project was left unfinished\n",
    "\n",
    "For the 'unfinished' column, we have a binary representation:\n",
    "- 1: left unfinished\n",
    "- 0: finished\n",
    "\n",
    "For the others, we have numeric values."
   ],
   "metadata": {
    "collapsed": false,
    "pycharm": {
     "name": "#%% md\n"
    }
   }
  },
  {
   "cell_type": "code",
   "execution_count": 5,
   "outputs": [
    {
     "data": {
      "text/plain": "      unfinished  expected_hours  price  finished\n2152           0              80   7518         1\n2153           1              52   1332         0\n2154           0              40    473         1\n2155           0              75   5324         1\n2156           1              37    377         0",
      "text/html": "<div>\n<style scoped>\n    .dataframe tbody tr th:only-of-type {\n        vertical-align: middle;\n    }\n\n    .dataframe tbody tr th {\n        vertical-align: top;\n    }\n\n    .dataframe thead th {\n        text-align: right;\n    }\n</style>\n<table border=\"1\" class=\"dataframe\">\n  <thead>\n    <tr style=\"text-align: right;\">\n      <th></th>\n      <th>unfinished</th>\n      <th>expected_hours</th>\n      <th>price</th>\n      <th>finished</th>\n    </tr>\n  </thead>\n  <tbody>\n    <tr>\n      <th>2152</th>\n      <td>0</td>\n      <td>80</td>\n      <td>7518</td>\n      <td>1</td>\n    </tr>\n    <tr>\n      <th>2153</th>\n      <td>1</td>\n      <td>52</td>\n      <td>1332</td>\n      <td>0</td>\n    </tr>\n    <tr>\n      <th>2154</th>\n      <td>0</td>\n      <td>40</td>\n      <td>473</td>\n      <td>1</td>\n    </tr>\n    <tr>\n      <th>2155</th>\n      <td>0</td>\n      <td>75</td>\n      <td>5324</td>\n      <td>1</td>\n    </tr>\n    <tr>\n      <th>2156</th>\n      <td>1</td>\n      <td>37</td>\n      <td>377</td>\n      <td>0</td>\n    </tr>\n  </tbody>\n</table>\n</div>"
     },
     "metadata": {},
     "output_type": "execute_result",
     "execution_count": 5
    }
   ],
   "source": [
    "# Replace the 'unfinished' column with a 'finished' column\n",
    "# First, create the 'finished' column \n",
    "data['finished'] = data.unfinished.map({0: 1, 1: 0})\n",
    "data.tail()"
   ],
   "metadata": {
    "collapsed": false,
    "pycharm": {
     "name": "#%%\n",
     "is_executing": false
    }
   }
  },
  {
   "cell_type": "code",
   "execution_count": 9,
   "outputs": [
    {
     "data": {
      "text/plain": "      expected_hours  price  finished\n2152              80   7518         1\n2153              52   1332         0\n2154              40    473         1\n2155              75   5324         1\n2156              37    377         0",
      "text/html": "<div>\n<style scoped>\n    .dataframe tbody tr th:only-of-type {\n        vertical-align: middle;\n    }\n\n    .dataframe tbody tr th {\n        vertical-align: top;\n    }\n\n    .dataframe thead th {\n        text-align: right;\n    }\n</style>\n<table border=\"1\" class=\"dataframe\">\n  <thead>\n    <tr style=\"text-align: right;\">\n      <th></th>\n      <th>expected_hours</th>\n      <th>price</th>\n      <th>finished</th>\n    </tr>\n  </thead>\n  <tbody>\n    <tr>\n      <th>2152</th>\n      <td>80</td>\n      <td>7518</td>\n      <td>1</td>\n    </tr>\n    <tr>\n      <th>2153</th>\n      <td>52</td>\n      <td>1332</td>\n      <td>0</td>\n    </tr>\n    <tr>\n      <th>2154</th>\n      <td>40</td>\n      <td>473</td>\n      <td>1</td>\n    </tr>\n    <tr>\n      <th>2155</th>\n      <td>75</td>\n      <td>5324</td>\n      <td>1</td>\n    </tr>\n    <tr>\n      <th>2156</th>\n      <td>37</td>\n      <td>377</td>\n      <td>0</td>\n    </tr>\n  </tbody>\n</table>\n</div>"
     },
     "metadata": {},
     "output_type": "execute_result",
     "execution_count": 9
    }
   ],
   "source": [
    "# Then, drop the 'unfinished' column\n",
    "data = data.drop(columns=['unfinished'])\n",
    "data.tail()"
   ],
   "metadata": {
    "collapsed": false,
    "pycharm": {
     "name": "#%%\n",
     "is_executing": false
    }
   }
  }
 ],
 "metadata": {
  "kernelspec": {
   "display_name": "Python 3",
   "language": "python",
   "name": "python3"
  },
  "language_info": {
   "codemirror_mode": {
    "name": "ipython",
    "version": 2
   },
   "file_extension": ".py",
   "mimetype": "text/x-python",
   "name": "python",
   "nbconvert_exporter": "python",
   "pygments_lexer": "ipython2",
   "version": "2.7.6"
  },
  "pycharm": {
   "stem_cell": {
    "cell_type": "raw",
    "source": [],
    "metadata": {
     "collapsed": false
    }
   }
  }
 },
 "nbformat": 4,
 "nbformat_minor": 0
}