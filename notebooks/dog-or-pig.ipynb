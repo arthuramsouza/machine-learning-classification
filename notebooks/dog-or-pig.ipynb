{
 "cells": [
  {
   "cell_type": "markdown",
   "source": [
    "# Machine Learning - Classification\n",
    "\n",
    "## Dog or Pig?\n",
    "\n",
    "This Jupyter notebook contains a classification test case where,\n",
    "given some input data, we'll get to predict whether a given input\n",
    "is a dog or a pig."
   ],
   "metadata": {
    "collapsed": false
   }
  },
  {
   "cell_type": "code",
   "source": [
    "# Imports\n",
    "from sklearn.metrics import accuracy_score\n",
    "from sklearn.svm import LinearSVC"
   ],
   "metadata": {
    "collapsed": false,
    "pycharm": {
     "name": "#%%\n",
     "is_executing": false
    }
   },
   "execution_count": 37,
   "outputs": []
  },
  {
   "cell_type": "markdown",
   "source": [
    "### Features\n",
    "\n",
    "These are the characteristics that will be used:\n",
    "\n",
    "- Does it have long fur?\n",
    "- Does it have short legs?\n",
    "- Does it bark?\n",
    "\n",
    "Arrays with 3 positions are used to represent those features. "
   ],
   "metadata": {
    "collapsed": false,
    "pycharm": {
     "name": "#%% md\n"
    }
   }
  },
  {
   "cell_type": "code",
   "execution_count": 38,
   "outputs": [],
   "source": [
    "# Input data\n",
    "\n",
    "pig1 = [0, 1, 0]\n",
    "pig2 = [0, 1, 1]\n",
    "pig3 = [1, 1, 0]\n",
    "\n",
    "dog1 = [0, 1, 1]\n",
    "dog2 = [1, 0, 1]\n",
    "dog3 = [1, 1, 1]\n",
    "\n",
    "# 1 == Pig\n",
    "# 0 == Dog\n",
    "train_x = [pig1, pig2, pig3, dog1, dog2, dog3]\n",
    "train_y = [1, 1, 1, 0, 0, 0]"
   ],
   "metadata": {
    "collapsed": false,
    "pycharm": {
     "name": "#%%\n",
     "is_executing": false
    }
   }
  },
  {
   "cell_type": "markdown",
   "source": [
    "### Model"
   ],
   "metadata": {
    "collapsed": false,
    "pycharm": {
     "name": "#%% md\n"
    }
   }
  },
  {
   "cell_type": "code",
   "execution_count": 39,
   "outputs": [
    {
     "data": {
      "text/plain": "LinearSVC(C=1.0, class_weight=None, dual=True, fit_intercept=True,\n          intercept_scaling=1, loss='squared_hinge', max_iter=1000,\n          multi_class='ovr', penalty='l2', random_state=None, tol=0.0001,\n          verbose=0)"
     },
     "metadata": {},
     "output_type": "execute_result",
     "execution_count": 39
    }
   ],
   "source": [
    "model = LinearSVC()\n",
    "model.fit(train_x, train_y)"
   ],
   "metadata": {
    "collapsed": false,
    "pycharm": {
     "name": "#%%\n",
     "is_executing": false
    }
   }
  },
  {
   "cell_type": "markdown",
   "source": [
    "### Predictions"
   ],
   "metadata": {
    "collapsed": false,
    "pycharm": {
     "name": "#%% md\n"
    }
   }
  },
  {
   "cell_type": "code",
   "execution_count": 40,
   "outputs": [],
   "source": [
    "test_subject1 = [1, 1, 1]\n",
    "test_subject2 = [1, 1, 0]\n",
    "test_subject3 = [0, 1, 1]\n",
    "test_x = [test_subject1, test_subject2, test_subject3]\n",
    "test_y = [0, 1, 1]\n",
    "predictions = model.predict(test_x)"
   ],
   "metadata": {
    "collapsed": false,
    "pycharm": {
     "name": "#%%\n",
     "is_executing": false
    }
   }
  },
  {
   "cell_type": "markdown",
   "source": [
    "### Results"
   ],
   "metadata": {
    "collapsed": false
   }
  },
  {
   "cell_type": "code",
   "execution_count": 41,
   "outputs": [
    {
     "name": "stdout",
     "text": [
      "Accuracy score: 66.67\n"
     ],
     "output_type": "stream"
    }
   ],
   "source": [
    "accuracy = accuracy_score(test_y, predictions)\n",
    "print(\"Accuracy score: %.2f\" % (accuracy * 100))"
   ],
   "metadata": {
    "collapsed": false,
    "pycharm": {
     "name": "#%%\n",
     "is_executing": false
    }
   }
  }
 ],
 "metadata": {
  "kernelspec": {
   "display_name": "Python 3",
   "language": "python",
   "name": "python3"
  },
  "language_info": {
   "codemirror_mode": {
    "name": "ipython",
    "version": 2
   },
   "file_extension": ".py",
   "mimetype": "text/x-python",
   "name": "python",
   "nbconvert_exporter": "python",
   "pygments_lexer": "ipython2",
   "version": "2.7.6"
  },
  "pycharm": {
   "stem_cell": {
    "cell_type": "raw",
    "source": [],
    "metadata": {
     "collapsed": false
    }
   }
  }
 },
 "nbformat": 4,
 "nbformat_minor": 0
}